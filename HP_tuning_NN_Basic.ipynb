{
  "nbformat": 4,
  "nbformat_minor": 0,
  "metadata": {
    "colab": {
      "name": "HP_tuning_NN_Basic.ipynb",
      "provenance": [],
      "collapsed_sections": []
    },
    "kernelspec": {
      "name": "python3",
      "display_name": "Python 3"
    },
    "language_info": {
      "name": "python"
    }
  },
  "cells": [
    {
      "cell_type": "code",
      "execution_count": null,
      "metadata": {
        "id": "xeC4q98-hPpb"
      },
      "outputs": [],
      "source": [
        "## HP tuning in neural networks.\n",
        "## Basic tuning."
      ]
    },
    {
      "cell_type": "code",
      "source": [
        "import tensorflow as tf"
      ],
      "metadata": {
        "id": "IpzI80ZihZtg"
      },
      "execution_count": 1,
      "outputs": []
    },
    {
      "cell_type": "code",
      "source": [
        "print(tf.__version__)"
      ],
      "metadata": {
        "colab": {
          "base_uri": "https://localhost:8080/"
        },
        "id": "TJKM0_sahZwT",
        "outputId": "506f3e31-900e-4d1e-e849-4d2016449210"
      },
      "execution_count": 2,
      "outputs": [
        {
          "output_type": "stream",
          "name": "stdout",
          "text": [
            "2.8.2\n"
          ]
        }
      ]
    },
    {
      "cell_type": "code",
      "source": [
        "# import keras"
      ],
      "metadata": {
        "id": "_N68RAeShZyq"
      },
      "execution_count": null,
      "outputs": []
    },
    {
      "cell_type": "code",
      "source": [
        "## MNIST dataset.\n",
        "## Keras has MNIST dataset included.\n",
        "## MNIST is  handwritten digits dataset\n",
        "\n",
        "mnist=tf.keras.datasets.mnist\n",
        "print(\"MNIST dataset loaded\")"
      ],
      "metadata": {
        "colab": {
          "base_uri": "https://localhost:8080/"
        },
        "id": "BDvjVeCEhZ1a",
        "outputId": "ae9b62fb-bfeb-4a81-a2bc-de6d3f25b776"
      },
      "execution_count": 3,
      "outputs": [
        {
          "output_type": "stream",
          "name": "stdout",
          "text": [
            "MNIST dataset loaded\n"
          ]
        }
      ]
    },
    {
      "cell_type": "code",
      "source": [
        "##if you want to see how these images look\n",
        "import matplotlib.pyplot as plt"
      ],
      "metadata": {
        "id": "x7QjzK3ihZ4H"
      },
      "execution_count": 4,
      "outputs": []
    },
    {
      "cell_type": "code",
      "source": [
        "mnist"
      ],
      "metadata": {
        "colab": {
          "base_uri": "https://localhost:8080/"
        },
        "id": "5dXbnlAtj12o",
        "outputId": "10e84fa5-b2db-454f-9af0-080239f796cd"
      },
      "execution_count": 5,
      "outputs": [
        {
          "output_type": "execute_result",
          "data": {
            "text/plain": [
              "<module 'keras.api._v2.keras.datasets.mnist' from '/usr/local/lib/python3.7/dist-packages/keras/api/_v2/keras/datasets/mnist/__init__.py'>"
            ]
          },
          "metadata": {},
          "execution_count": 5
        }
      ]
    },
    {
      "cell_type": "code",
      "source": [
        "plt.imshow(mnist.load_data()[0][0][23], cmap='binary')\n",
        "plt.xlabel(mnist.load_data()[0][1][23])\n",
        "plt.show()"
      ],
      "metadata": {
        "colab": {
          "base_uri": "https://localhost:8080/",
          "height": 279
        },
        "id": "v6rZ7ebHhZ6i",
        "outputId": "68093be1-a248-4aa1-fe93-f637915a9931"
      },
      "execution_count": 8,
      "outputs": [
        {
          "output_type": "display_data",
          "data": {
            "text/plain": [
              "<Figure size 432x288 with 1 Axes>"
            ],
            "image/png": "[encoded data removed]"
          },
          "metadata": {
            "needs_background": "light"
          }
        }
      ]
    },
    {
      "cell_type": "code",
      "source": [
        "## our aim is to tune HP.\n",
        "## we need to make a NN model.\n",
        "\n",
        "def tune_mnist(num_train_imgs, num_hidden_units, dropout, learning_rate, momentum, epochs, batch_size):\n",
        "  num_test_imgs = int(num_train_imgs/10)\n",
        "  (xtrain, ytrain),(xtest, ytest)=mnist.load_data()\n",
        "  xtrain=xtrain[:num_train_imgs]\n",
        "  xtest=xtest[:num_test_imgs]\n",
        "  ytrain=ytrain[:num_train_imgs]\n",
        "  ytest=ytest[:num_test_imgs]\n",
        "\n",
        "  ## let;s build NN.\n",
        "  model = tf.keras.models.Sequential(\n",
        "      [tf.keras.layers.Flatten(input_shape=xtrain[0].shape),\n",
        "       tf.keras.layers.Dense(num_hidden_units, activation=tf.nn.relu ),\n",
        "       tf.keras.layers.Dropout(dropout),\n",
        "       tf.keras.layers.Dense(10, activation=tf.nn.softmax)\n",
        "       ]\n",
        "  )\n",
        "\n",
        "  optmizer=tf.keras.optimizers.SGD(learning_rate=learning_rate,\n",
        "                                   momentum=momentum)\n",
        "  model.compile(metrics=['accuracy'])\n",
        "  model.fit(xtrain, ytrain, epochs=epochs,batch_size=batch_size)\n",
        "\n",
        "  test_loss, test_acc = model.evaluate(xtest, ytest, verbose=2 )\n",
        "  print(\"test accuracy: \", test_acc)\n",
        "  \n",
        "\n"
      ],
      "metadata": {
        "id": "FhCb6F_7hZ9T"
      },
      "execution_count": 15,
      "outputs": []
    },
    {
      "cell_type": "code",
      "source": [
        "## define search space\n",
        "## HP search space\n",
        "\n",
        "space={\"num_train_imgs\":[100,200], \"num_hidden_units\":[2,3,4], \"dropout\":[0.01,0.4], \n",
        "       \"learning_rate\":[0.001, 0.0024], \"momentum\":[0.2, 0.02], \"epochs\":[10, 20], \"batch_size\":[2,3,4]}"
      ],
      "metadata": {
        "id": "7t3lym7dlRl8"
      },
      "execution_count": 17,
      "outputs": []
    },
    {
      "cell_type": "code",
      "source": [
        "for m in space['num_train_imgs']:\n",
        "  for n in space['num_hidden_units']:\n",
        "    -----------------------------------------\n",
        "    tune_mnist(num_train_imgs=m, num_hidden_units=n ,..................)"
      ],
      "metadata": {
        "colab": {
          "base_uri": "https://localhost:8080/",
          "height": 131
        },
        "id": "KniAnohtryAT",
        "outputId": "c986c3be-53fd-4f09-ab54-9e0c48786498"
      },
      "execution_count": 18,
      "outputs": [
        {
          "output_type": "error",
          "ename": "SyntaxError",
          "evalue": "ignored",
          "traceback": [
            "\u001b[0;36m  File \u001b[0;32m\"<ipython-input-18-cdde210f6537>\"\u001b[0;36m, line \u001b[0;32m3\u001b[0m\n\u001b[0;31m    -----------------------------------------\u001b[0m\n\u001b[0m                                             ^\u001b[0m\n\u001b[0;31mSyntaxError\u001b[0m\u001b[0;31m:\u001b[0m invalid syntax\n"
          ]
        }
      ]
    },
    {
      "cell_type": "code",
      "source": [
        "## 1)complete the code above.\n",
        "## 2) use the same NN - GridSearchCV for HP tuning.\n",
        "=================\n",
        "##3) RandomSearchCV"
      ],
      "metadata": {
        "id": "HrRYPe-5sZKs"
      },
      "execution_count": null,
      "outputs": []
    },
    {
      "cell_type": "code",
      "source": [],
      "metadata": {
        "id": "w3zrd9CfsZPM"
      },
      "execution_count": null,
      "outputs": []
    },
    {
      "cell_type": "code",
      "source": [],
      "metadata": {
        "id": "MXN3PIb-ryCi"
      },
      "execution_count": null,
      "outputs": []
    },
    {
      "cell_type": "code",
      "source": [],
      "metadata": {
        "id": "nu0JASjcryEu"
      },
      "execution_count": null,
      "outputs": []
    },
    {
      "cell_type": "code",
      "source": [],
      "metadata": {
        "id": "GSnbAVy_ryHh"
      },
      "execution_count": null,
      "outputs": []
    },
    {
      "cell_type": "code",
      "source": [],
      "metadata": {
        "id": "Bo9RzyWwhZ_m"
      },
      "execution_count": null,
      "outputs": []
    }
  ]
}